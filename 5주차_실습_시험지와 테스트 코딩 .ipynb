{
 "cells": [
  {
   "cell_type": "markdown",
   "metadata": {},
   "source": [
    "# 5주차_실습"
   ]
  },
  {
   "cell_type": "markdown",
   "metadata": {},
   "source": [
    "## (1) 이론\n",
    "- 지난 세션시간까지 배운 데이터 분석 개념 점검을 위한 객관식/단답형 문제입니다.\n",
    "- 코드셀에 정답을 적어주시면 됩니다."
   ]
  },
  {
   "cell_type": "markdown",
   "metadata": {},
   "source": [
    "#### 1. EDA(탐색적 데이터 분석, Exploratory Data Analysis)의 목적은?\n",
    "① 데이터를 정제하는 것<br>\n",
    "② 데이터를 시각화하고 특징을 파악하는 것<br>\n",
    "③ 모델을 학습시키는 것<br>\n",
    "④ 데이터를 수집하는 것<br>"
   ]
  },
  {
   "cell_type": "markdown",
   "metadata": {},
   "source": [
    "2"
   ]
  },
  {
   "cell_type": "markdown",
   "metadata": {},
   "source": [
    "#### 2. 다음 중 범주형 데이터를 수치형 데이터로 변환하는 방법이 아닌 것은?\n",
    "① Label Encoding<br>\n",
    "② One-Hot Encoding<br>\n",
    "③ Min-Max Scaling<br>\n",
    "④ Ordinal Encoding<br>"
   ]
  },
  {
   "cell_type": "markdown",
   "metadata": {},
   "source": [
    "3"
   ]
  },
  {
   "cell_type": "markdown",
   "metadata": {},
   "source": [
    "#### 3. 회귀 분석에서 사용하는 평가 지표로 적절하지 않은 것은?\n",
    "① RMSE (Root Mean Squared Error)<br>\n",
    "② R-squared<br>\n",
    "③ AUC-ROC<br>\n",
    "④ MAE (Mean Absolute Error)<br>"
   ]
  },
  {
   "cell_type": "markdown",
   "metadata": {},
   "source": [
    "3"
   ]
  },
  {
   "cell_type": "markdown",
   "metadata": {},
   "source": [
    "#### 4. 비지도 학습에 해당하는 알고리즘을 모두 고르시오.\n",
    "① K-Means<br>\n",
    "② PCA<br>\n",
    "③ Random Forest<br>\n",
    "④ DBSCAN<br>"
   ]
  },
  {
   "cell_type": "markdown",
   "metadata": {},
   "source": [
    "1,4"
   ]
  },
  {
   "cell_type": "markdown",
   "metadata": {},
   "source": [
    "#### 5. 분류 모델의 성능을 평가할 때 Precision과 Recall의 차이점은?\n",
    "\n",
    "Precision이 중요한 상황과 Recall이 중요한 상황을 각각 적어주세요."
   ]
  },
  {
   "cell_type": "markdown",
   "metadata": {},
   "source": [
    "Precision은 True라고 예측한 것중에 진짜 True인 비율을 말한다. Recall은 실제 샘플 True중에 진짜 True인 비율을 말한다.\n",
    "Precision은 False Positive를 낮추는 데 초점을 두고 있고, Recall은 False Negative를 낮추는 데 초점을 두고 있다."
   ]
  },
  {
   "cell_type": "markdown",
   "metadata": {},
   "source": [
    "#### 6. 결측치 처리 방법에는 여러 가지가 있습니다. 아래와 같은 상황에서는 어떤 결측치 처리 방법이 가장 적절한가요?\n",
    "\n",
    "- 데이터에서 일부 숫자형 변수의 결측치 비율이 40% 이상이다.\n",
    "- 데이터를 분석해보니 결측값이 특정한 패턴 없이 무작위로 발생했다."
   ]
  },
  {
   "cell_type": "markdown",
   "metadata": {},
   "source": [
    "결측치를 제거하기에는 데이터의 정보를 40%가 잃을 수 있다. 결측값이 특정한 패턴없이 무작위로 발생했기 때문에 다른 변수들과 관계를 보기에는 적합하지 않다고 판단했다. 때문에 **중앙값 결측치 처리**를 이용할 것이다. 왜냐하면 중앙값 처리는 평균값 처리보다 이상치에 덜 예민하기 때문이다."
   ]
  },
  {
   "cell_type": "markdown",
   "metadata": {},
   "source": [
    "#### 7. PCA(주성분 분석)의 역할과 단점은 무엇인가요?\n",
    "\n",
    "PCA를 사용할 때 데이터의 정보를 잃을 가능성이 있는 이유를 설명해주세요."
   ]
  },
  {
   "cell_type": "markdown",
   "metadata": {},
   "source": [
    "PCA는 차원축소 기법 중 하나로, 다중공선성 문제를 해결할 수 있는 기법이다.\n",
    "변수 사이에는 상관관계가 있거나 없을 수 있다. 하지만 PCA는 원래 변수들 사이에 있던 상관관계를 없애고 독립으로 만들어주기 때문에 변수 사이의 관계에 대한 정보를 잃을 수 있다는 단점이 존재한다."
   ]
  },
  {
   "cell_type": "markdown",
   "metadata": {},
   "source": [
    "#### 8. 앙상블 학습(Ensemble Learning) 방법 중 Bagging과 Boosting의 차이점\n",
    "\n",
    "각각 대표적인 알고리즘을 하나씩 제시해주세요."
   ]
  },
  {
   "cell_type": "markdown",
   "metadata": {},
   "source": [
    "- 배깅은 여러 개의 모델을 독립적으로 학습시킨 후, 그 결과를 투표 또는 평균을 통해 종합하는 방식으로 대표적인 알고리즘에는 **Random Forest**가 있다.\n",
    "- 부스팅은 각 모델이 순서대로 학습되면 오답에 높은 가중치를 주어 오차를 보완해나가는 방식으로 대표적인 알고리즘에는 **XGBoost**가 있다. \n",
    " - 둘의 차이점은 배깅은 독립적인 결정트리를 출력해 진행하지만 부스팅은 모델 간 팀워크가 이루어진다."
   ]
  },
  {
   "cell_type": "markdown",
   "metadata": {},
   "source": [
    "#### 9. 다중공선성이란 무엇이며, 다중공선성이 심할 경우 해결 방법은 무엇인가요?\n",
    "\n"
   ]
  },
  {
   "cell_type": "markdown",
   "metadata": {},
   "source": [
    "다중공선성이란 변수들 사이에 관련이 있다는 말이다. 때문에 다중공선성이 심할 경우에는 PCA 방법을 통해 차원을 축소하는 방법을 사용한다. "
   ]
  },
  {
   "cell_type": "markdown",
   "metadata": {},
   "source": [
    "#### 10. 머신러닝 모델의 과적합(Overfitting)을 방지하기 위한 방법을 2가지 이상 적어주세요."
   ]
  },
  {
   "cell_type": "markdown",
   "metadata": {},
   "source": [
    "머신러닝 모델의 과적합을 방지하기 위해 첫번째 방법으로는 **변수 스케일링**을 한다. 변수들의 범위를 통일시켜주는 작업으로, 특정 변수 값의 범위가 클수록 영향력이 큰 변수라고 잘못 인식하지 않게 하는 작업이다. 다만 여기서 주의할 점은 RandomForest, Gradient Boosting 같은 경우는 변수 스케일링을 하지 않는다. 이렇게 모든 머신러닝 모델에 변수 스케일을 적용하지 않는 점은 알아둬야한다.\n",
    "\n",
    "두번때 방법으로는 **K-fold 교차 검증**을 한다. 데이터를 k개로 분할하여 k-1개는 train셋, 1개는 valid 셋으로 분류하여 위 과정을 k번 반복하고 k개의 성능의 평균값을 계산한다. 이는 데이터셋의 크기가 작을때 유용하다. 데이터셋의 크기가 작으면 과적합할 가능성이 높기때문에 데이터셋의 크기가 작을때 k번의 반복을 통해 더 정확한 정보를 얻을 수 있게 된다."
   ]
  },
  {
   "cell_type": "markdown",
   "metadata": {},
   "source": [
    "## (2) 고객 이탈 예측 실습  \n",
    "\n",
    "### 목표  \n",
    "- 고객의 이탈 여부(`Churn`)를 예측하는 모델을 구축하세요.  \n",
    "- **train, test 데이터에 동일한 전처리를 적용**한 후, 최종 모델을 `customer_churn_test.csv`에 적용하여 결과를 `test.csv`로 저장하세요.  \n",
    "\n",
    "### 실습 가이드  \n",
    "1. **데이터**  \n",
    "   - `customer_churn_train.csv` (훈련 데이터)  \n",
    "   - `customer_churn_test.csv` (테스트 데이터)  \n",
    "\n",
    "2. **분석 과정**  \n",
    "   - **데이터 탐색(EDA)** : 데이터의 전반적인 특성과 분포를 확인하세요.  \n",
    "   - **데이터 전처리** : 결측치 및 이상치를 필수적으로 처리하세요.  \n",
    "   - **모델링** : 적절한 모델을 선택하여 학습시키세요.  \n",
    "\n",
    "3. **요구사항**  \n",
    "   - **결측치와 이상치 처리 필수!**  \n",
    "   - **train과 test 데이터에 동일한 전처리 적용!**  \n",
    "   - **선택한 모델에 대한 이유 설명 (주석 또는 마크다운 활용)**  \n",
    "   - **주석과 마크다운을 적극 활용하여 코드 가독성을 높이기!**  \n",
    "\n",
    "📢 **최종 결과물**  \n",
    "- `customer_churn_test.csv`에 대해 예측을 수행한 결과를 `test.csv`로 저장하세요.  \n",
    "- 코드와 함께 제출해주세요.  \n"
   ]
  },
  {
   "cell_type": "markdown",
   "metadata": {},
   "source": [
    "### 데이터 컬럼 설명  \n",
    "\n",
    "| **컬럼명**           | **설명**                                  |  \n",
    "|--------------------|--------------------------------|  \n",
    "| `CustomerID`      | 고객 고유 ID                    |  \n",
    "| `Age`             | 고객 연령                           |  \n",
    "| `Gender`          | 성별 (`Male`, `Female`)          |  \n",
    "| `Tenure`          | 가입 기간 (개월)                  |  \n",
    "| `Usage Frequency` | 월별 평균 사용 횟수              |  \n",
    "| `Support Calls`   | 고객센터 문의 횟수               |  \n",
    "| `Payment Delay`   | 연체 발생 횟수                   |  \n",
    "| `Subscription Type` | 가입 요금제 (`Basic`, `Standard`, `Premium`) |  \n",
    "| `Contract Length` | 계약 기간 (`Month-to-Month`, `One Year`, `Two Year`) |  \n",
    "| `Total Spend`     | 총 지출 금액                      |  \n",
    "| `Last Interaction` | 마지막 서비스 이용 후 지난 일수  |  \n",
    "| `Churn`           | 고객 이탈 여부 (`1 = 이탈`, `0 = 유지`) |  \n",
    "\n",
    "- **타겟 변수(Target Variable):** `Churn`  \n",
    "- **범주형 변수(Categorical Features):** `Gender`, `Subscription Type`, `Contract Length`  \n",
    "- **수치형 변수(Numerical Features):** `Age`, `Tenure`, `Usage Frequency`, `Support Calls`, `Payment Delay`, `Total Spend`, `Last Interaction`  \n"
   ]
  },
  {
   "cell_type": "code",
   "execution_count": 44,
   "metadata": {},
   "outputs": [],
   "source": [
    "import pandas as pd             \n",
    "import numpy as np             \n",
    "import matplotlib.pyplot as plt  \n",
    "import seaborn as sns           \n",
    "\n",
    "from sklearn.preprocessing import OneHotEncoder # 원핫인코딩\n",
    "from sklearn.preprocessing import LabelEncoder # 라벨인코딩\n",
    "from sklearn.model_selection import train_test_split  # 데이터 분할\n",
    "from sklearn.preprocessing import StandardScaler      # 스케일링\n",
    "from sklearn.impute import SimpleImputer              # 결측치 처리\n",
    "from sklearn.ensemble import RandomForestClassifier   # 분류 모델\n",
    "from sklearn.linear_model import LogisticRegression   # 분류 모델\n",
    "from sklearn.metrics import accuracy_score, confusion_matrix, classification_report  # 모델 평가\n",
    "from sklearn.linear_model import LinearRegression     # 회귀 모델\n",
    "from sklearn.ensemble import RandomForestRegressor   # 회귀 모델\n",
    "from sklearn.metrics import mean_absolute_error, mean_squared_error, r2_score  # 모델 평가\n",
    "\n",
    "# 경고 메시지 무시\n",
    "import warnings\n",
    "warnings.filterwarnings('ignore')\n",
    "\n",
    "## 한글 깨짐 방지\n",
    "\n",
    "import koreanize_matplotlib "
   ]
  },
  {
   "cell_type": "code",
   "execution_count": 47,
   "metadata": {},
   "outputs": [],
   "source": [
    "#데이터셋 불러오기\n",
    "train = pd.read_csv('C:/Users/minmi/OneDrive/문서/카카오톡 받은 파일/customer_churn_train.csv')"
   ]
  },
  {
   "cell_type": "code",
   "execution_count": 4,
   "metadata": {},
   "outputs": [],
   "source": [
    "test=pd.read_csv('C:/Users/minmi/OneDrive/문서/카카오톡 받은 파일/customer_churn_test.csv')"
   ]
  },
  {
   "cell_type": "code",
   "execution_count": 18,
   "metadata": {},
   "outputs": [
    {
     "name": "stdout",
     "output_type": "stream",
     "text": [
      "   CustomerID   Age  Gender  Tenure  Usage Frequency  Support Calls  \\\n",
      "0         2.0  30.0  Female    39.0             14.0            5.0   \n",
      "1         3.0  65.0  Female    49.0              1.0           10.0   \n",
      "2         4.0  55.0  Female    14.0              4.0            6.0   \n",
      "3         5.0  58.0    Male    38.0             21.0            7.0   \n",
      "4         6.0  23.0    Male    32.0             20.0            5.0   \n",
      "\n",
      "   Payment Delay Subscription Type Contract Length  Total Spend  \\\n",
      "0           18.0          Standard          Annual        932.0   \n",
      "1            8.0             Basic         Monthly        557.0   \n",
      "2           18.0             Basic       Quarterly        185.0   \n",
      "3            7.0          Standard         Monthly        396.0   \n",
      "4            8.0             Basic         Monthly        617.0   \n",
      "\n",
      "   Last Interaction  Churn  \n",
      "0              17.0    1.0  \n",
      "1               6.0    1.0  \n",
      "2               3.0    1.0  \n",
      "3              29.0    1.0  \n",
      "4              20.0    1.0  \n",
      "   CustomerID  Age  Gender  Tenure  Usage Frequency  Support Calls  \\\n",
      "0           1   22  Female      25               14              4   \n",
      "1           2   41  Female      28               28              7   \n",
      "2           3   47    Male      27               10              2   \n",
      "3           4   35    Male       9               12              5   \n",
      "4           5   53  Female      58               24              9   \n",
      "\n",
      "   Payment Delay Subscription Type Contract Length  Total Spend  \\\n",
      "0             27             Basic         Monthly          598   \n",
      "1             13          Standard         Monthly          584   \n",
      "2             29           Premium          Annual          757   \n",
      "3             17           Premium       Quarterly          232   \n",
      "4              2          Standard          Annual          533   \n",
      "\n",
      "   Last Interaction  Churn  \n",
      "0                 9      1  \n",
      "1                20      0  \n",
      "2                21      0  \n",
      "3                18      0  \n",
      "4                18      0  \n"
     ]
    }
   ],
   "source": [
    "print(train.head())\n",
    "print(test.head())"
   ]
  },
  {
   "cell_type": "code",
   "execution_count": 6,
   "metadata": {},
   "outputs": [
    {
     "name": "stdout",
     "output_type": "stream",
     "text": [
      "<class 'pandas.core.frame.DataFrame'>\n",
      "RangeIndex: 440833 entries, 0 to 440832\n",
      "Data columns (total 12 columns):\n",
      " #   Column             Non-Null Count   Dtype  \n",
      "---  ------             --------------   -----  \n",
      " 0   CustomerID         440832 non-null  float64\n",
      " 1   Age                440832 non-null  float64\n",
      " 2   Gender             440832 non-null  object \n",
      " 3   Tenure             440832 non-null  float64\n",
      " 4   Usage Frequency    440832 non-null  float64\n",
      " 5   Support Calls      440832 non-null  float64\n",
      " 6   Payment Delay      440832 non-null  float64\n",
      " 7   Subscription Type  440832 non-null  object \n",
      " 8   Contract Length    440832 non-null  object \n",
      " 9   Total Spend        440832 non-null  float64\n",
      " 10  Last Interaction   440832 non-null  float64\n",
      " 11  Churn              440832 non-null  float64\n",
      "dtypes: float64(9), object(3)\n",
      "memory usage: 40.4+ MB\n"
     ]
    }
   ],
   "source": [
    "train.info()"
   ]
  },
  {
   "cell_type": "code",
   "execution_count": 19,
   "metadata": {},
   "outputs": [
    {
     "data": {
      "text/plain": [
       "(440833, 12)"
      ]
     },
     "execution_count": 19,
     "metadata": {},
     "output_type": "execute_result"
    }
   ],
   "source": [
    "#데이터 모형 확인하기\n",
    "train.shape\n"
   ]
  },
  {
   "cell_type": "code",
   "execution_count": 48,
   "metadata": {},
   "outputs": [],
   "source": [
    "#필요없는 변수 제거\n",
    "columns_to_drop = ['CustomerID']\n",
    "train = train.drop(columns=columns_to_drop)\n"
   ]
  },
  {
   "cell_type": "code",
   "execution_count": 22,
   "metadata": {},
   "outputs": [
    {
     "data": {
      "text/plain": [
       "Age                  1\n",
       "Gender               1\n",
       "Tenure               1\n",
       "Usage Frequency      1\n",
       "Support Calls        1\n",
       "Payment Delay        1\n",
       "Subscription Type    1\n",
       "Contract Length      1\n",
       "Total Spend          1\n",
       "Last Interaction     1\n",
       "Churn                1\n",
       "dtype: int64"
      ]
     },
     "execution_count": 22,
     "metadata": {},
     "output_type": "execute_result"
    }
   ],
   "source": [
    "#결측값 확인\n",
    "train.isna().sum()"
   ]
  },
  {
   "cell_type": "markdown",
   "metadata": {},
   "source": [
    "결측값이 모든 변수에 1개씩 존재한다. 이는 같은 행에 존재하는지 아닌지를 먼저 확인하고, 변수 결측치를 처리하고자 한다."
   ]
  },
  {
   "cell_type": "code",
   "execution_count": 23,
   "metadata": {},
   "outputs": [
    {
     "data": {
      "text/html": [
       "<div>\n",
       "<style scoped>\n",
       "    .dataframe tbody tr th:only-of-type {\n",
       "        vertical-align: middle;\n",
       "    }\n",
       "\n",
       "    .dataframe tbody tr th {\n",
       "        vertical-align: top;\n",
       "    }\n",
       "\n",
       "    .dataframe thead th {\n",
       "        text-align: right;\n",
       "    }\n",
       "</style>\n",
       "<table border=\"1\" class=\"dataframe\">\n",
       "  <thead>\n",
       "    <tr style=\"text-align: right;\">\n",
       "      <th></th>\n",
       "      <th>Age</th>\n",
       "      <th>Gender</th>\n",
       "      <th>Tenure</th>\n",
       "      <th>Usage Frequency</th>\n",
       "      <th>Support Calls</th>\n",
       "      <th>Payment Delay</th>\n",
       "      <th>Subscription Type</th>\n",
       "      <th>Contract Length</th>\n",
       "      <th>Total Spend</th>\n",
       "      <th>Last Interaction</th>\n",
       "      <th>Churn</th>\n",
       "    </tr>\n",
       "  </thead>\n",
       "  <tbody>\n",
       "    <tr>\n",
       "      <th>199295</th>\n",
       "      <td>NaN</td>\n",
       "      <td>NaN</td>\n",
       "      <td>NaN</td>\n",
       "      <td>NaN</td>\n",
       "      <td>NaN</td>\n",
       "      <td>NaN</td>\n",
       "      <td>NaN</td>\n",
       "      <td>NaN</td>\n",
       "      <td>NaN</td>\n",
       "      <td>NaN</td>\n",
       "      <td>NaN</td>\n",
       "    </tr>\n",
       "  </tbody>\n",
       "</table>\n",
       "</div>"
      ],
      "text/plain": [
       "        Age Gender  Tenure  Usage Frequency  Support Calls  Payment Delay  \\\n",
       "199295  NaN    NaN     NaN              NaN            NaN            NaN   \n",
       "\n",
       "       Subscription Type Contract Length  Total Spend  Last Interaction  Churn  \n",
       "199295               NaN             NaN          NaN               NaN    NaN  "
      ]
     },
     "execution_count": 23,
     "metadata": {},
     "output_type": "execute_result"
    }
   ],
   "source": [
    "train[train['Age'].isna()]"
   ]
  },
  {
   "cell_type": "markdown",
   "metadata": {},
   "source": [
    "알고보니 199295번째 행에 존재하는 모든 변수에 결측값을 존재한다는걸 확인했다. 이 결측치는 **수가 적고 모든 행에 결측치가 존재**하기 때문에 **결측값 삭제**를 통해 결측값 처리를 하고자 한다."
   ]
  },
  {
   "cell_type": "code",
   "execution_count": 49,
   "metadata": {},
   "outputs": [],
   "source": [
    "## 결측값 처리\n",
    "train=train.drop(199295)"
   ]
  },
  {
   "cell_type": "code",
   "execution_count": 25,
   "metadata": {},
   "outputs": [
    {
     "data": {
      "text/plain": [
       "(440832, 11)"
      ]
     },
     "execution_count": 25,
     "metadata": {},
     "output_type": "execute_result"
    }
   ],
   "source": [
    "train.shape #결측치 처리가 완료됨"
   ]
  },
  {
   "cell_type": "code",
   "execution_count": 29,
   "metadata": {
    "scrolled": true
   },
   "outputs": [
    {
     "data": {
      "text/html": [
       "<div>\n",
       "<style scoped>\n",
       "    .dataframe tbody tr th:only-of-type {\n",
       "        vertical-align: middle;\n",
       "    }\n",
       "\n",
       "    .dataframe tbody tr th {\n",
       "        vertical-align: top;\n",
       "    }\n",
       "\n",
       "    .dataframe thead th {\n",
       "        text-align: right;\n",
       "    }\n",
       "</style>\n",
       "<table border=\"1\" class=\"dataframe\">\n",
       "  <thead>\n",
       "    <tr style=\"text-align: right;\">\n",
       "      <th></th>\n",
       "      <th>Age</th>\n",
       "      <th>Tenure</th>\n",
       "      <th>Usage Frequency</th>\n",
       "      <th>Support Calls</th>\n",
       "      <th>Payment Delay</th>\n",
       "      <th>Total Spend</th>\n",
       "      <th>Last Interaction</th>\n",
       "      <th>Churn</th>\n",
       "    </tr>\n",
       "  </thead>\n",
       "  <tbody>\n",
       "    <tr>\n",
       "      <th>count</th>\n",
       "      <td>440832.000000</td>\n",
       "      <td>440832.000000</td>\n",
       "      <td>440832.000000</td>\n",
       "      <td>440832.000000</td>\n",
       "      <td>440832.000000</td>\n",
       "      <td>440832.000000</td>\n",
       "      <td>440832.000000</td>\n",
       "      <td>440832.000000</td>\n",
       "    </tr>\n",
       "    <tr>\n",
       "      <th>mean</th>\n",
       "      <td>39.373153</td>\n",
       "      <td>31.256336</td>\n",
       "      <td>15.807494</td>\n",
       "      <td>3.604437</td>\n",
       "      <td>12.965722</td>\n",
       "      <td>631.616223</td>\n",
       "      <td>14.480868</td>\n",
       "      <td>0.567107</td>\n",
       "    </tr>\n",
       "    <tr>\n",
       "      <th>std</th>\n",
       "      <td>12.442369</td>\n",
       "      <td>17.255727</td>\n",
       "      <td>8.586242</td>\n",
       "      <td>3.070218</td>\n",
       "      <td>8.258063</td>\n",
       "      <td>240.803001</td>\n",
       "      <td>8.596208</td>\n",
       "      <td>0.495477</td>\n",
       "    </tr>\n",
       "    <tr>\n",
       "      <th>min</th>\n",
       "      <td>18.000000</td>\n",
       "      <td>1.000000</td>\n",
       "      <td>1.000000</td>\n",
       "      <td>0.000000</td>\n",
       "      <td>0.000000</td>\n",
       "      <td>100.000000</td>\n",
       "      <td>1.000000</td>\n",
       "      <td>0.000000</td>\n",
       "    </tr>\n",
       "    <tr>\n",
       "      <th>25%</th>\n",
       "      <td>29.000000</td>\n",
       "      <td>16.000000</td>\n",
       "      <td>9.000000</td>\n",
       "      <td>1.000000</td>\n",
       "      <td>6.000000</td>\n",
       "      <td>480.000000</td>\n",
       "      <td>7.000000</td>\n",
       "      <td>0.000000</td>\n",
       "    </tr>\n",
       "    <tr>\n",
       "      <th>50%</th>\n",
       "      <td>39.000000</td>\n",
       "      <td>32.000000</td>\n",
       "      <td>16.000000</td>\n",
       "      <td>3.000000</td>\n",
       "      <td>12.000000</td>\n",
       "      <td>661.000000</td>\n",
       "      <td>14.000000</td>\n",
       "      <td>1.000000</td>\n",
       "    </tr>\n",
       "    <tr>\n",
       "      <th>75%</th>\n",
       "      <td>48.000000</td>\n",
       "      <td>46.000000</td>\n",
       "      <td>23.000000</td>\n",
       "      <td>6.000000</td>\n",
       "      <td>19.000000</td>\n",
       "      <td>830.000000</td>\n",
       "      <td>22.000000</td>\n",
       "      <td>1.000000</td>\n",
       "    </tr>\n",
       "    <tr>\n",
       "      <th>max</th>\n",
       "      <td>65.000000</td>\n",
       "      <td>60.000000</td>\n",
       "      <td>30.000000</td>\n",
       "      <td>10.000000</td>\n",
       "      <td>30.000000</td>\n",
       "      <td>1000.000000</td>\n",
       "      <td>30.000000</td>\n",
       "      <td>1.000000</td>\n",
       "    </tr>\n",
       "  </tbody>\n",
       "</table>\n",
       "</div>"
      ],
      "text/plain": [
       "                 Age         Tenure  Usage Frequency  Support Calls  \\\n",
       "count  440832.000000  440832.000000    440832.000000  440832.000000   \n",
       "mean       39.373153      31.256336        15.807494       3.604437   \n",
       "std        12.442369      17.255727         8.586242       3.070218   \n",
       "min        18.000000       1.000000         1.000000       0.000000   \n",
       "25%        29.000000      16.000000         9.000000       1.000000   \n",
       "50%        39.000000      32.000000        16.000000       3.000000   \n",
       "75%        48.000000      46.000000        23.000000       6.000000   \n",
       "max        65.000000      60.000000        30.000000      10.000000   \n",
       "\n",
       "       Payment Delay    Total Spend  Last Interaction          Churn  \n",
       "count  440832.000000  440832.000000     440832.000000  440832.000000  \n",
       "mean       12.965722     631.616223         14.480868       0.567107  \n",
       "std         8.258063     240.803001          8.596208       0.495477  \n",
       "min         0.000000     100.000000          1.000000       0.000000  \n",
       "25%         6.000000     480.000000          7.000000       0.000000  \n",
       "50%        12.000000     661.000000         14.000000       1.000000  \n",
       "75%        19.000000     830.000000         22.000000       1.000000  \n",
       "max        30.000000    1000.000000         30.000000       1.000000  "
      ]
     },
     "execution_count": 29,
     "metadata": {},
     "output_type": "execute_result"
    }
   ],
   "source": [
    "#데이터의 기초통계량\n",
    "train.describe()"
   ]
  },
  {
   "cell_type": "markdown",
   "metadata": {},
   "source": [
    "## 이상치 탐지 및 시각화 분포 확인"
   ]
  },
  {
   "cell_type": "code",
   "execution_count": 31,
   "metadata": {},
   "outputs": [
    {
     "data": {
      "image/png": "[encoded data removed]",
      "text/plain": [
       "<Figure size 800x500 with 1 Axes>"
      ]
     },
     "metadata": {},
     "output_type": "display_data"
    }
   ],
   "source": [
    "plt.figure(figsize=(8, 5))\n",
    "plt.hist(train['Age'], bins=30, edgecolor='k')\n",
    "plt.title('Age Distribution After Imputation')\n",
    "plt.xlabel('Age')\n",
    "plt.ylabel('Frequency')\n",
    "plt.show()"
   ]
  },
  {
   "cell_type": "markdown",
   "metadata": {},
   "source": [
    "시각화를 통해 본 결과, 나이 변수는 이상치가 없어보인다."
   ]
  },
  {
   "cell_type": "code",
   "execution_count": 33,
   "metadata": {},
   "outputs": [
    {
     "data": {
      "text/plain": [
       "Male      250252\n",
       "Female    190580\n",
       "Name: Gender, dtype: int64"
      ]
     },
     "execution_count": 33,
     "metadata": {},
     "output_type": "execute_result"
    }
   ],
   "source": [
    "train['Gender'].value_counts()"
   ]
  },
  {
   "cell_type": "code",
   "execution_count": 34,
   "metadata": {},
   "outputs": [
    {
     "data": {
      "image/png": "[encoded data removed]",
      "text/plain": [
       "<Figure size 800x500 with 1 Axes>"
      ]
     },
     "metadata": {},
     "output_type": "display_data"
    }
   ],
   "source": [
    "plt.figure(figsize=(8, 5))\n",
    "plt.hist(train['Tenure'], bins=30, edgecolor='k')\n",
    "plt.title('Tenure Distribution After Imputation')\n",
    "plt.xlabel('Tenure')\n",
    "plt.ylabel('Frequency')\n",
    "plt.show()"
   ]
  },
  {
   "cell_type": "markdown",
   "metadata": {},
   "source": [
    "기초통계량에서 본 min=1인 결과와 분포를 통해서 본 이상치는 없어보이기 때문에 이상치 처리는 진행하지 않는다."
   ]
  },
  {
   "cell_type": "code",
   "execution_count": 35,
   "metadata": {},
   "outputs": [
    {
     "data": {
      "image/png": "[encoded data removed]",
      "text/plain": [
       "<Figure size 800x500 with 1 Axes>"
      ]
     },
     "metadata": {},
     "output_type": "display_data"
    }
   ],
   "source": [
    "plt.figure(figsize=(8, 5))\n",
    "plt.hist(train['Usage Frequency'], bins=30, edgecolor='k')\n",
    "plt.title('Usage Frequency Distribution After Imputation')\n",
    "plt.xlabel('Usage Frequency')\n",
    "plt.ylabel('Frequency')\n",
    "plt.show()"
   ]
  },
  {
   "cell_type": "markdown",
   "metadata": {},
   "source": [
    "Usage Frequency도 min=1과 max=30이고 평균이 15인걸 이미 알았고, 시각화를 해서 본 결과 결측치는 없어보이기에 이상치 처리는 진행하지 않는다."
   ]
  },
  {
   "cell_type": "code",
   "execution_count": 37,
   "metadata": {},
   "outputs": [
    {
     "data": {
      "image/png": "[encoded data removed]",
      "text/plain": [
       "<Figure size 800x500 with 1 Axes>"
      ]
     },
     "metadata": {},
     "output_type": "display_data"
    }
   ],
   "source": [
    "plt.figure(figsize=(8, 5))\n",
    "plt.hist(train['Support Calls'], bins=10, edgecolor='k')\n",
    "plt.title('TSupport Calls  Distribution After Imputation')\n",
    "plt.xlabel('Support Calls')\n",
    "plt.ylabel('Frequency')\n",
    "plt.show()"
   ]
  },
  {
   "cell_type": "markdown",
   "metadata": {},
   "source": [
    "Support Calls은 왼쪽으로 치우친 분포를 갖는다. 하지만 변수의 특성상 max=10까지 존재한다고 볼 수 있다고 판단했기에 이상치 처리는 진행하지 않는다."
   ]
  },
  {
   "cell_type": "code",
   "execution_count": 39,
   "metadata": {
    "scrolled": true
   },
   "outputs": [
    {
     "data": {
      "image/png": "[encoded data removed]",
      "text/plain": [
       "<Figure size 800x500 with 1 Axes>"
      ]
     },
     "metadata": {},
     "output_type": "display_data"
    }
   ],
   "source": [
    "plt.figure(figsize=(8, 5))\n",
    "plt.hist(train['Payment Delay'], bins=30, edgecolor='k')\n",
    "plt.title('Payment Delay  Distribution After Imputation')\n",
    "plt.xlabel('Payment Delay')\n",
    "plt.ylabel('Frequency')\n",
    "plt.show()"
   ]
  },
  {
   "cell_type": "markdown",
   "metadata": {},
   "source": [
    "Payment Delay은 20까지는 대략 발생하지만 20이상으로 가면 급격히 줄어들고 갑자기 30에는 높은 빈도를 자랑하는걸 볼 수 있다. 하지만 75%가 19이고 25%가 6인걸 감안하면 이상치는 없다는걸 알 수 있기에 이상치 처리는 진행하지 않는다."
   ]
  },
  {
   "cell_type": "code",
   "execution_count": 40,
   "metadata": {
    "scrolled": true
   },
   "outputs": [
    {
     "data": {
      "image/png": "[encoded data removed]",
      "text/plain": [
       "<Figure size 800x500 with 1 Axes>"
      ]
     },
     "metadata": {},
     "output_type": "display_data"
    }
   ],
   "source": [
    "plt.figure(figsize=(8, 5))\n",
    "plt.hist(train['Total Spend'], bins=30, edgecolor='k')\n",
    "plt.title('Total Spend Distribution After Imputation')\n",
    "plt.xlabel('Total Spend')\n",
    "plt.ylabel('Frequency')\n",
    "plt.show()"
   ]
  },
  {
   "cell_type": "code",
   "execution_count": 56,
   "metadata": {},
   "outputs": [
    {
     "data": {
      "text/plain": [
       "1.0    249999\n",
       "0.0    190833\n",
       "Name: Churn, dtype: int64"
      ]
     },
     "execution_count": 56,
     "metadata": {},
     "output_type": "execute_result"
    }
   ],
   "source": [
    "train['Churn'].value_counts()"
   ]
  },
  {
   "cell_type": "markdown",
   "metadata": {},
   "source": [
    "시각화를 본 결과, 그리고 기초통계량의 75%와 25%를 감안해서 보면 이상치는 존재하지 않는다는걸 알 수 있다."
   ]
  },
  {
   "cell_type": "markdown",
   "metadata": {},
   "source": [
    "## 범주형 인코딩"
   ]
  },
  {
   "cell_type": "code",
   "execution_count": 50,
   "metadata": {},
   "outputs": [],
   "source": [
    "#나이 범주형 인코딩\n",
    "train['Gender'] = train['Gender'].apply(lambda x: 1 if x == 'Gender' else 0)"
   ]
  },
  {
   "cell_type": "code",
   "execution_count": null,
   "metadata": {},
   "outputs": [],
   "source": [
    " `Contract Length` | 계약 기간 (`Month-to-Month`, `One Year`, `Two Year`) |  "
   ]
  },
  {
   "cell_type": "code",
   "execution_count": 51,
   "metadata": {},
   "outputs": [
    {
     "name": "stdout",
     "output_type": "stream",
     "text": [
      "최종 매핑 확인: [1 0 2]\n"
     ]
    }
   ],
   "source": [
    "#가입요금제 범주형 인코딩\n",
    "# 원하는 순서대로 \n",
    "order = ['Basic', 'Standard', 'Premium']\n",
    "\n",
    "# 수동 매핑하여 칼럼에 바로 적용\n",
    "train['Subscription Type'] = train['Subscription Type'].map({Subscription: i for i, Subscription in enumerate(order)})\n",
    "\n",
    "# 결과 확인\n",
    "print(\"최종 매핑 확인:\", train['Subscription Type'].unique())\n"
   ]
  },
  {
   "cell_type": "code",
   "execution_count": 53,
   "metadata": {},
   "outputs": [
    {
     "data": {
      "text/plain": [
       "array(['Annual', 'Monthly', 'Quarterly'], dtype=object)"
      ]
     },
     "execution_count": 53,
     "metadata": {},
     "output_type": "execute_result"
    }
   ],
   "source": [
    "train['Contract Length'].unique()"
   ]
  },
  {
   "cell_type": "code",
   "execution_count": 54,
   "metadata": {},
   "outputs": [
    {
     "name": "stdout",
     "output_type": "stream",
     "text": [
      "최종 매핑 확인: [0 1 2]\n"
     ]
    }
   ],
   "source": [
    "# 원하는 순서대로 \n",
    "order = ['Annual', 'Monthly', 'Quarterly']\n",
    "\n",
    "# 수동 매핑하여 칼럼에 바로 적용\n",
    "train['Contract Length'] = train['Contract Length'].map({Contract: i for i, Contract in enumerate(order)})\n",
    "\n",
    "# 결과 확인\n",
    "print(\"최종 매핑 확인:\", train['Contract Length'].unique())\n"
   ]
  },
  {
   "cell_type": "code",
   "execution_count": 55,
   "metadata": {
    "scrolled": true
   },
   "outputs": [
    {
     "data": {
      "text/html": [
       "<div>\n",
       "<style scoped>\n",
       "    .dataframe tbody tr th:only-of-type {\n",
       "        vertical-align: middle;\n",
       "    }\n",
       "\n",
       "    .dataframe tbody tr th {\n",
       "        vertical-align: top;\n",
       "    }\n",
       "\n",
       "    .dataframe thead th {\n",
       "        text-align: right;\n",
       "    }\n",
       "</style>\n",
       "<table border=\"1\" class=\"dataframe\">\n",
       "  <thead>\n",
       "    <tr style=\"text-align: right;\">\n",
       "      <th></th>\n",
       "      <th>Age</th>\n",
       "      <th>Gender</th>\n",
       "      <th>Tenure</th>\n",
       "      <th>Usage Frequency</th>\n",
       "      <th>Support Calls</th>\n",
       "      <th>Payment Delay</th>\n",
       "      <th>Subscription Type</th>\n",
       "      <th>Contract Length</th>\n",
       "      <th>Total Spend</th>\n",
       "      <th>Last Interaction</th>\n",
       "      <th>Churn</th>\n",
       "    </tr>\n",
       "  </thead>\n",
       "  <tbody>\n",
       "    <tr>\n",
       "      <th>count</th>\n",
       "      <td>440832.000000</td>\n",
       "      <td>440832.0</td>\n",
       "      <td>440832.000000</td>\n",
       "      <td>440832.000000</td>\n",
       "      <td>440832.000000</td>\n",
       "      <td>440832.000000</td>\n",
       "      <td>440832.000000</td>\n",
       "      <td>440832.000000</td>\n",
       "      <td>440832.000000</td>\n",
       "      <td>440832.000000</td>\n",
       "      <td>440832.000000</td>\n",
       "    </tr>\n",
       "    <tr>\n",
       "      <th>mean</th>\n",
       "      <td>39.373153</td>\n",
       "      <td>0.0</td>\n",
       "      <td>31.256336</td>\n",
       "      <td>15.807494</td>\n",
       "      <td>3.604437</td>\n",
       "      <td>12.965722</td>\n",
       "      <td>1.012821</td>\n",
       "      <td>0.998485</td>\n",
       "      <td>631.616223</td>\n",
       "      <td>14.480868</td>\n",
       "      <td>0.567107</td>\n",
       "    </tr>\n",
       "    <tr>\n",
       "      <th>std</th>\n",
       "      <td>12.442369</td>\n",
       "      <td>0.0</td>\n",
       "      <td>17.255727</td>\n",
       "      <td>8.586242</td>\n",
       "      <td>3.070218</td>\n",
       "      <td>8.258063</td>\n",
       "      <td>0.813357</td>\n",
       "      <td>0.895773</td>\n",
       "      <td>240.803001</td>\n",
       "      <td>8.596208</td>\n",
       "      <td>0.495477</td>\n",
       "    </tr>\n",
       "    <tr>\n",
       "      <th>min</th>\n",
       "      <td>18.000000</td>\n",
       "      <td>0.0</td>\n",
       "      <td>1.000000</td>\n",
       "      <td>1.000000</td>\n",
       "      <td>0.000000</td>\n",
       "      <td>0.000000</td>\n",
       "      <td>0.000000</td>\n",
       "      <td>0.000000</td>\n",
       "      <td>100.000000</td>\n",
       "      <td>1.000000</td>\n",
       "      <td>0.000000</td>\n",
       "    </tr>\n",
       "    <tr>\n",
       "      <th>25%</th>\n",
       "      <td>29.000000</td>\n",
       "      <td>0.0</td>\n",
       "      <td>16.000000</td>\n",
       "      <td>9.000000</td>\n",
       "      <td>1.000000</td>\n",
       "      <td>6.000000</td>\n",
       "      <td>0.000000</td>\n",
       "      <td>0.000000</td>\n",
       "      <td>480.000000</td>\n",
       "      <td>7.000000</td>\n",
       "      <td>0.000000</td>\n",
       "    </tr>\n",
       "    <tr>\n",
       "      <th>50%</th>\n",
       "      <td>39.000000</td>\n",
       "      <td>0.0</td>\n",
       "      <td>32.000000</td>\n",
       "      <td>16.000000</td>\n",
       "      <td>3.000000</td>\n",
       "      <td>12.000000</td>\n",
       "      <td>1.000000</td>\n",
       "      <td>1.000000</td>\n",
       "      <td>661.000000</td>\n",
       "      <td>14.000000</td>\n",
       "      <td>1.000000</td>\n",
       "    </tr>\n",
       "    <tr>\n",
       "      <th>75%</th>\n",
       "      <td>48.000000</td>\n",
       "      <td>0.0</td>\n",
       "      <td>46.000000</td>\n",
       "      <td>23.000000</td>\n",
       "      <td>6.000000</td>\n",
       "      <td>19.000000</td>\n",
       "      <td>2.000000</td>\n",
       "      <td>2.000000</td>\n",
       "      <td>830.000000</td>\n",
       "      <td>22.000000</td>\n",
       "      <td>1.000000</td>\n",
       "    </tr>\n",
       "    <tr>\n",
       "      <th>max</th>\n",
       "      <td>65.000000</td>\n",
       "      <td>0.0</td>\n",
       "      <td>60.000000</td>\n",
       "      <td>30.000000</td>\n",
       "      <td>10.000000</td>\n",
       "      <td>30.000000</td>\n",
       "      <td>2.000000</td>\n",
       "      <td>2.000000</td>\n",
       "      <td>1000.000000</td>\n",
       "      <td>30.000000</td>\n",
       "      <td>1.000000</td>\n",
       "    </tr>\n",
       "  </tbody>\n",
       "</table>\n",
       "</div>"
      ],
      "text/plain": [
       "                 Age    Gender         Tenure  Usage Frequency  Support Calls  \\\n",
       "count  440832.000000  440832.0  440832.000000    440832.000000  440832.000000   \n",
       "mean       39.373153       0.0      31.256336        15.807494       3.604437   \n",
       "std        12.442369       0.0      17.255727         8.586242       3.070218   \n",
       "min        18.000000       0.0       1.000000         1.000000       0.000000   \n",
       "25%        29.000000       0.0      16.000000         9.000000       1.000000   \n",
       "50%        39.000000       0.0      32.000000        16.000000       3.000000   \n",
       "75%        48.000000       0.0      46.000000        23.000000       6.000000   \n",
       "max        65.000000       0.0      60.000000        30.000000      10.000000   \n",
       "\n",
       "       Payment Delay  Subscription Type  Contract Length    Total Spend  \\\n",
       "count  440832.000000      440832.000000    440832.000000  440832.000000   \n",
       "mean       12.965722           1.012821         0.998485     631.616223   \n",
       "std         8.258063           0.813357         0.895773     240.803001   \n",
       "min         0.000000           0.000000         0.000000     100.000000   \n",
       "25%         6.000000           0.000000         0.000000     480.000000   \n",
       "50%        12.000000           1.000000         1.000000     661.000000   \n",
       "75%        19.000000           2.000000         2.000000     830.000000   \n",
       "max        30.000000           2.000000         2.000000    1000.000000   \n",
       "\n",
       "       Last Interaction          Churn  \n",
       "count     440832.000000  440832.000000  \n",
       "mean          14.480868       0.567107  \n",
       "std            8.596208       0.495477  \n",
       "min            1.000000       0.000000  \n",
       "25%            7.000000       0.000000  \n",
       "50%           14.000000       1.000000  \n",
       "75%           22.000000       1.000000  \n",
       "max           30.000000       1.000000  "
      ]
     },
     "execution_count": 55,
     "metadata": {},
     "output_type": "execute_result"
    }
   ],
   "source": [
    "train.describe() "
   ]
  },
  {
   "cell_type": "markdown",
   "metadata": {},
   "source": [
    "범주형 인코딩과 함께 이상치, 결측치 처리 모두 완료"
   ]
  },
  {
   "cell_type": "markdown",
   "metadata": {},
   "source": [
    "## 데이터 분할"
   ]
  },
  {
   "cell_type": "code",
   "execution_count": 60,
   "metadata": {},
   "outputs": [
    {
     "name": "stdout",
     "output_type": "stream",
     "text": [
      "    Age  Gender  Tenure  Usage Frequency  Support Calls  Payment Delay  \\\n",
      "0  30.0       0    39.0             14.0            5.0           18.0   \n",
      "1  65.0       0    49.0              1.0           10.0            8.0   \n",
      "2  55.0       0    14.0              4.0            6.0           18.0   \n",
      "\n",
      "   Subscription Type  Contract Length  Total Spend  Last Interaction  \n",
      "0                  1                0        932.0              17.0  \n",
      "1                  0                1        557.0               6.0  \n",
      "2                  0                2        185.0               3.0  \n",
      "0    1.0\n",
      "1    1.0\n",
      "2    1.0\n",
      "Name: Churn, dtype: float64\n"
     ]
    }
   ],
   "source": [
    "X=train[['Age','Gender','Tenure','Usage Frequency','Support Calls','Payment Delay','Subscription Type','Contract Length','Total Spend','Last Interaction']]\n",
    "Y=train['Churn']\n",
    "print(X.head(3))\n",
    "print(Y.head(3))"
   ]
  },
  {
   "cell_type": "code",
   "execution_count": 61,
   "metadata": {},
   "outputs": [],
   "source": [
    "X_train, X_val,y_train, y_val = train_test_split(X, Y, test_size=0.2, random_state=1234)"
   ]
  },
  {
   "cell_type": "code",
   "execution_count": 62,
   "metadata": {},
   "outputs": [
    {
     "data": {
      "text/plain": [
       "(352665, 10)"
      ]
     },
     "execution_count": 62,
     "metadata": {},
     "output_type": "execute_result"
    }
   ],
   "source": [
    "X_train.shape"
   ]
  },
  {
   "cell_type": "code",
   "execution_count": 64,
   "metadata": {},
   "outputs": [
    {
     "data": {
      "text/plain": [
       "(88167, 10)"
      ]
     },
     "execution_count": 64,
     "metadata": {},
     "output_type": "execute_result"
    }
   ],
   "source": [
    "X_val.shape"
   ]
  },
  {
   "cell_type": "markdown",
   "metadata": {},
   "source": [
    "## 로지스틱 회귀모델"
   ]
  },
  {
   "cell_type": "code",
   "execution_count": 73,
   "metadata": {},
   "outputs": [],
   "source": [
    "#필요한 라이브러리 임포트\n",
    "from sklearn.linear_model import LogisticRegression\n",
    "from sklearn.ensemble import RandomForestClassifier, GradientBoostingClassifier\n",
    "from sklearn.svm import SVC\n",
    "from sklearn.neighbors import KNeighborsClassifier\n",
    "from sklearn.model_selection import GridSearchCV\n",
    "from sklearn.metrics import accuracy_score, classification_report"
   ]
  },
  {
   "cell_type": "code",
   "execution_count": null,
   "metadata": {},
   "outputs": [],
   "source": [
    "from sklearn.preprocessing import StandardScaler\n",
    "scaler = StandardScaler()"
   ]
  },
  {
   "cell_type": "code",
   "execution_count": 77,
   "metadata": {},
   "outputs": [
    {
     "name": "stdout",
     "output_type": "stream",
     "text": [
      "[[-5.93011401e-01  0.00000000e+00 -7.10064187e-01 ...  1.11853229e+00\n",
      "  -1.27241013e-03 -6.37985712e-01]\n",
      " [ 1.09482194e+00  0.00000000e+00 -4.20189850e-01 ...  1.11853229e+00\n",
      "   2.13779074e-01  6.01440295e-02]\n",
      " [ 1.49668702e+00  0.00000000e+00  2.75508557e-01 ...  2.22523884e-03\n",
      "   8.91597092e-02 -7.54340669e-01]\n",
      " ...\n",
      " [ 7.73329874e-01  0.00000000e+00 -1.34778773e+00 ...  1.11853229e+00\n",
      "   9.40642292e-01  9.90983685e-01]\n",
      " [-6.73384417e-01  0.00000000e+00  4.49433158e-01 ...  1.11853229e+00\n",
      "   4.85407751e-01 -1.72565884e-01]\n",
      " [ 5.32210826e-01  0.00000000e+00  9.13232096e-01 ...  1.11853229e+00\n",
      "  -5.38091095e-01 -7.54340669e-01]]\n"
     ]
    }
   ],
   "source": [
    "#스케일링 적용하기\n",
    "X_train_scaled = scaler.fit_transform(X_train)\n",
    "X_val_scaled = scaler.transform(X_val)\n",
    "\n",
    "print(X_train_scaled)"
   ]
  },
  {
   "cell_type": "code",
   "execution_count": 78,
   "metadata": {},
   "outputs": [],
   "source": [
    "#하이퍼파라미터 튜닝을 위한 그리드 설정\n",
    "param_grid = {\n",
    "    'C': [0.01, 0.1, 1, 10, 100],\n",
    "    'penalty': ['l1', 'l2']\n",
    "}\n"
   ]
  },
  {
   "cell_type": "code",
   "execution_count": 79,
   "metadata": {},
   "outputs": [],
   "source": [
    "#로지스틱 회귀모델 생성\n",
    "clf = LogisticRegression(max_iter=1000, solver='liblinear', random_state=42)"
   ]
  },
  {
   "cell_type": "code",
   "execution_count": 80,
   "metadata": {},
   "outputs": [],
   "source": [
    "#GridSearchCV를 이용한 하이퍼파라미터 튜닝 \n",
    "grid_search = GridSearchCV(estimator=clf,\n",
    "                           param_grid=param_grid,\n",
    "                           cv=5,\n",
    "                           scoring='accuracy',  # 교차검증 시 정확도 사용\n",
    "                           n_jobs=-1)"
   ]
  },
  {
   "cell_type": "code",
   "execution_count": 81,
   "metadata": {},
   "outputs": [
    {
     "data": {
      "text/html": [
       "<style>#sk-container-id-2 {color: black;background-color: white;}#sk-container-id-2 pre{padding: 0;}#sk-container-id-2 div.sk-toggleable {background-color: white;}#sk-container-id-2 label.sk-toggleable__label {cursor: pointer;display: block;width: 100%;margin-bottom: 0;padding: 0.3em;box-sizing: border-box;text-align: center;}#sk-container-id-2 label.sk-toggleable__label-arrow:before {content: \"▸\";float: left;margin-right: 0.25em;color: #696969;}#sk-container-id-2 label.sk-toggleable__label-arrow:hover:before {color: black;}#sk-container-id-2 div.sk-estimator:hover label.sk-toggleable__label-arrow:before {color: black;}#sk-container-id-2 div.sk-toggleable__content {max-height: 0;max-width: 0;overflow: hidden;text-align: left;background-color: #f0f8ff;}#sk-container-id-2 div.sk-toggleable__content pre {margin: 0.2em;color: black;border-radius: 0.25em;background-color: #f0f8ff;}#sk-container-id-2 input.sk-toggleable__control:checked~div.sk-toggleable__content {max-height: 200px;max-width: 100%;overflow: auto;}#sk-container-id-2 input.sk-toggleable__control:checked~label.sk-toggleable__label-arrow:before {content: \"▾\";}#sk-container-id-2 div.sk-estimator input.sk-toggleable__control:checked~label.sk-toggleable__label {background-color: #d4ebff;}#sk-container-id-2 div.sk-label input.sk-toggleable__control:checked~label.sk-toggleable__label {background-color: #d4ebff;}#sk-container-id-2 input.sk-hidden--visually {border: 0;clip: rect(1px 1px 1px 1px);clip: rect(1px, 1px, 1px, 1px);height: 1px;margin: -1px;overflow: hidden;padding: 0;position: absolute;width: 1px;}#sk-container-id-2 div.sk-estimator {font-family: monospace;background-color: #f0f8ff;border: 1px dotted black;border-radius: 0.25em;box-sizing: border-box;margin-bottom: 0.5em;}#sk-container-id-2 div.sk-estimator:hover {background-color: #d4ebff;}#sk-container-id-2 div.sk-parallel-item::after {content: \"\";width: 100%;border-bottom: 1px solid gray;flex-grow: 1;}#sk-container-id-2 div.sk-label:hover label.sk-toggleable__label {background-color: #d4ebff;}#sk-container-id-2 div.sk-serial::before {content: \"\";position: absolute;border-left: 1px solid gray;box-sizing: border-box;top: 0;bottom: 0;left: 50%;z-index: 0;}#sk-container-id-2 div.sk-serial {display: flex;flex-direction: column;align-items: center;background-color: white;padding-right: 0.2em;padding-left: 0.2em;position: relative;}#sk-container-id-2 div.sk-item {position: relative;z-index: 1;}#sk-container-id-2 div.sk-parallel {display: flex;align-items: stretch;justify-content: center;background-color: white;position: relative;}#sk-container-id-2 div.sk-item::before, #sk-container-id-2 div.sk-parallel-item::before {content: \"\";position: absolute;border-left: 1px solid gray;box-sizing: border-box;top: 0;bottom: 0;left: 50%;z-index: -1;}#sk-container-id-2 div.sk-parallel-item {display: flex;flex-direction: column;z-index: 1;position: relative;background-color: white;}#sk-container-id-2 div.sk-parallel-item:first-child::after {align-self: flex-end;width: 50%;}#sk-container-id-2 div.sk-parallel-item:last-child::after {align-self: flex-start;width: 50%;}#sk-container-id-2 div.sk-parallel-item:only-child::after {width: 0;}#sk-container-id-2 div.sk-dashed-wrapped {border: 1px dashed gray;margin: 0 0.4em 0.5em 0.4em;box-sizing: border-box;padding-bottom: 0.4em;background-color: white;}#sk-container-id-2 div.sk-label label {font-family: monospace;font-weight: bold;display: inline-block;line-height: 1.2em;}#sk-container-id-2 div.sk-label-container {text-align: center;}#sk-container-id-2 div.sk-container {/* jupyter's `normalize.less` sets `[hidden] { display: none; }` but bootstrap.min.css set `[hidden] { display: none !important; }` so we also need the `!important` here to be able to override the default hidden behavior on the sphinx rendered scikit-learn.org. See: https://github.com/scikit-learn/scikit-learn/issues/21755 */display: inline-block !important;position: relative;}#sk-container-id-2 div.sk-text-repr-fallback {display: none;}</style><div id=\"sk-container-id-2\" class=\"sk-top-container\"><div class=\"sk-text-repr-fallback\"><pre>GridSearchCV(cv=5,\n",
       "             estimator=LogisticRegression(max_iter=1000, random_state=42,\n",
       "                                          solver=&#x27;liblinear&#x27;),\n",
       "             n_jobs=-1,\n",
       "             param_grid={&#x27;C&#x27;: [0.01, 0.1, 1, 10, 100], &#x27;penalty&#x27;: [&#x27;l1&#x27;, &#x27;l2&#x27;]},\n",
       "             scoring=&#x27;accuracy&#x27;)</pre><b>In a Jupyter environment, please rerun this cell to show the HTML representation or trust the notebook. <br />On GitHub, the HTML representation is unable to render, please try loading this page with nbviewer.org.</b></div><div class=\"sk-container\" hidden><div class=\"sk-item sk-dashed-wrapped\"><div class=\"sk-label-container\"><div class=\"sk-label sk-toggleable\"><input class=\"sk-toggleable__control sk-hidden--visually\" id=\"sk-estimator-id-4\" type=\"checkbox\" ><label for=\"sk-estimator-id-4\" class=\"sk-toggleable__label sk-toggleable__label-arrow\">GridSearchCV</label><div class=\"sk-toggleable__content\"><pre>GridSearchCV(cv=5,\n",
       "             estimator=LogisticRegression(max_iter=1000, random_state=42,\n",
       "                                          solver=&#x27;liblinear&#x27;),\n",
       "             n_jobs=-1,\n",
       "             param_grid={&#x27;C&#x27;: [0.01, 0.1, 1, 10, 100], &#x27;penalty&#x27;: [&#x27;l1&#x27;, &#x27;l2&#x27;]},\n",
       "             scoring=&#x27;accuracy&#x27;)</pre></div></div></div><div class=\"sk-parallel\"><div class=\"sk-parallel-item\"><div class=\"sk-item\"><div class=\"sk-label-container\"><div class=\"sk-label sk-toggleable\"><input class=\"sk-toggleable__control sk-hidden--visually\" id=\"sk-estimator-id-5\" type=\"checkbox\" ><label for=\"sk-estimator-id-5\" class=\"sk-toggleable__label sk-toggleable__label-arrow\">estimator: LogisticRegression</label><div class=\"sk-toggleable__content\"><pre>LogisticRegression(max_iter=1000, random_state=42, solver=&#x27;liblinear&#x27;)</pre></div></div></div><div class=\"sk-serial\"><div class=\"sk-item\"><div class=\"sk-estimator sk-toggleable\"><input class=\"sk-toggleable__control sk-hidden--visually\" id=\"sk-estimator-id-6\" type=\"checkbox\" ><label for=\"sk-estimator-id-6\" class=\"sk-toggleable__label sk-toggleable__label-arrow\">LogisticRegression</label><div class=\"sk-toggleable__content\"><pre>LogisticRegression(max_iter=1000, random_state=42, solver=&#x27;liblinear&#x27;)</pre></div></div></div></div></div></div></div></div></div></div>"
      ],
      "text/plain": [
       "GridSearchCV(cv=5,\n",
       "             estimator=LogisticRegression(max_iter=1000, random_state=42,\n",
       "                                          solver='liblinear'),\n",
       "             n_jobs=-1,\n",
       "             param_grid={'C': [0.01, 0.1, 1, 10, 100], 'penalty': ['l1', 'l2']},\n",
       "             scoring='accuracy')"
      ]
     },
     "execution_count": 81,
     "metadata": {},
     "output_type": "execute_result"
    }
   ],
   "source": [
    "grid_search.fit(X_train_scaled, y_train)"
   ]
  },
  {
   "cell_type": "code",
   "execution_count": 82,
   "metadata": {},
   "outputs": [
    {
     "name": "stdout",
     "output_type": "stream",
     "text": [
      "최적의 하이퍼파라미터: {'C': 0.01, 'penalty': 'l1'}\n",
      "교차검증 최고 정확도: 0.8447\n"
     ]
    }
   ],
   "source": [
    "print(\"최적의 하이퍼파라미터:\", grid_search.best_params_)\n",
    "print(\"교차검증 최고 정확도: {:.4f}\".format(grid_search.best_score_))"
   ]
  },
  {
   "cell_type": "code",
   "execution_count": 83,
   "metadata": {},
   "outputs": [],
   "source": [
    "# 최적 모델을 이용해 검증 셋 예측\n",
    "y_pred = grid_search.best_estimator_.predict(X_val_scaled)"
   ]
  },
  {
   "cell_type": "code",
   "execution_count": 84,
   "metadata": {},
   "outputs": [
    {
     "name": "stdout",
     "output_type": "stream",
     "text": [
      "테스트 정확도: 0.8428\n",
      "테스트 F1 점수: 0.8590\n"
     ]
    }
   ],
   "source": [
    "from sklearn.metrics import accuracy_score, f1_score\n",
    "test_accuracy = accuracy_score(y_val, y_pred)\n",
    "test_f1 = f1_score(y_val, y_pred)\n",
    "\n",
    "print(\"검증 정확도: {:.4f}\".format(test_accuracy))\n",
    "print(\"검증 F1 점수: {:.4f}\".format(test_f1))"
   ]
  },
  {
   "cell_type": "markdown",
   "metadata": {},
   "source": [
    "## 랜덤 포레스트"
   ]
  },
  {
   "cell_type": "code",
   "execution_count": 85,
   "metadata": {},
   "outputs": [],
   "source": [
    "# 하이퍼파라미터 그리드\n",
    "param_grid_rf = {\n",
    "    'n_estimators': [50, 100, 200],\n",
    "    'max_depth': [None, 5, 10, 20],\n",
    "    'min_samples_split': [2, 5, 10]\n",
    "}\n"
   ]
  },
  {
   "cell_type": "code",
   "execution_count": 86,
   "metadata": {},
   "outputs": [],
   "source": [
    "clf_rf = RandomForestClassifier(random_state=42)"
   ]
  },
  {
   "cell_type": "code",
   "execution_count": 87,
   "metadata": {},
   "outputs": [],
   "source": [
    "# 트리 기반 모델은 스케일링이 필요없으므로 원본 데이터 사용\n",
    "grid_rf = GridSearchCV(estimator=clf_rf,\n",
    "                       param_grid=param_grid_rf,\n",
    "                       cv=5,\n",
    "                       scoring='accuracy',\n",
    "                       n_jobs=-1)\n"
   ]
  },
  {
   "cell_type": "code",
   "execution_count": null,
   "metadata": {},
   "outputs": [],
   "source": [
    "grid_rf.fit(X_train, y_train)"
   ]
  },
  {
   "cell_type": "code",
   "execution_count": null,
   "metadata": {},
   "outputs": [],
   "source": [
    "print(\"=== Random Forest ===\")\n",
    "print(\"최적의 하이퍼파라미터:\", grid_rf.best_params_)\n",
    "print(\"교차검증 정확도: {:.4f}\".format(grid_rf.best_score_))"
   ]
  },
  {
   "cell_type": "code",
   "execution_count": null,
   "metadata": {},
   "outputs": [],
   "source": [
    "#테스트셋 예측\n",
    "y_pred_rf = grid_rf.best_estimator_.predict(X_val)"
   ]
  },
  {
   "cell_type": "code",
   "execution_count": null,
   "metadata": {},
   "outputs": [],
   "source": [
    "print(\"검증 정확도: {:.4f}\".format(accuracy_score(y_val, y_pred_rf)))\n",
    "print(\"검증 F1 점수: {:.4f}\".format(f1_score(y_val, y_pred_rf)))"
   ]
  },
  {
   "cell_type": "markdown",
   "metadata": {},
   "source": [
    "## Gradient Boosting"
   ]
  },
  {
   "cell_type": "code",
   "execution_count": null,
   "metadata": {},
   "outputs": [],
   "source": [
    "# 하이퍼파라미터 그리드\n",
    "param_grid_gb = {\n",
    "    'n_estimators': [50, 100, 200],\n",
    "    'learning_rate': [0.01, 0.1, 0.2],\n",
    "    'max_depth': [3, 5, 7]\n",
    "}"
   ]
  },
  {
   "cell_type": "code",
   "execution_count": null,
   "metadata": {},
   "outputs": [],
   "source": [
    "clf_gb = GradientBoostingClassifier(random_state=42)"
   ]
  },
  {
   "cell_type": "code",
   "execution_count": null,
   "metadata": {},
   "outputs": [],
   "source": [
    "#하이퍼파라미터 튜닝\n",
    "grid_gb = GridSearchCV(estimator=clf_gb,\n",
    "                       param_grid=param_grid_gb,\n",
    "                       cv=5,\n",
    "                       scoring='accuracy',\n",
    "                       n_jobs=-1)"
   ]
  },
  {
   "cell_type": "code",
   "execution_count": null,
   "metadata": {},
   "outputs": [],
   "source": [
    "grid_gb.fit(X_train, y_train)"
   ]
  },
  {
   "cell_type": "code",
   "execution_count": null,
   "metadata": {},
   "outputs": [],
   "source": [
    "print(\"=== Gradient Boosting ===\")\n",
    "print(\"최적의 하이퍼파라미터:\", grid_gb.best_params_)\n",
    "print(\"교차검증 정확도: {:.4f}\".format(grid_gb.best_score_))"
   ]
  },
  {
   "cell_type": "code",
   "execution_count": null,
   "metadata": {},
   "outputs": [],
   "source": [
    "#테스트셋 예측\n",
    "y_pred_gb = grid_gb.best_estimator_.predict(X_val)"
   ]
  },
  {
   "cell_type": "code",
   "execution_count": null,
   "metadata": {},
   "outputs": [],
   "source": [
    "print(\"검증 정확도: {:.4f}\".format(accuracy_score(y_test, y_pred_gb)))\n",
    "print(\"검증 F1 점수: {:.4f}\".format(f1_score(y_test, y_pred_gb)))"
   ]
  },
  {
   "cell_type": "markdown",
   "metadata": {},
   "source": [
    "테스트 정확도를 통한 최종 모델은 .."
   ]
  }
 ],
 "metadata": {
  "kernelspec": {
   "display_name": "Python 3 (ipykernel)",
   "language": "python",
   "name": "python3"
  },
  "language_info": {
   "codemirror_mode": {
    "name": "ipython",
    "version": 3
   },
   "file_extension": ".py",
   "mimetype": "text/x-python",
   "name": "python",
   "nbconvert_exporter": "python",
   "pygments_lexer": "ipython3",
   "version": "3.10.9"
  }
 },
 "nbformat": 4,
 "nbformat_minor": 2
}
